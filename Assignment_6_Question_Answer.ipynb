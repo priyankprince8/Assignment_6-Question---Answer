{
  "nbformat": 4,
  "nbformat_minor": 0,
  "metadata": {
    "colab": {
      "provenance": []
    },
    "kernelspec": {
      "name": "python3",
      "display_name": "Python 3"
    },
    "language_info": {
      "name": "python"
    }
  },
  "cells": [
    {
      "cell_type": "code",
      "execution_count": 6,
      "metadata": {
        "colab": {
          "base_uri": "https://localhost:8080/"
        },
        "id": "McXJZDSyBFZp",
        "outputId": "753e905d-3df5-422e-955c-c70f2f25e7ec"
      },
      "outputs": [
        {
          "output_type": "stream",
          "name": "stdout",
          "text": [
            "[0, 4, 1, 3, 2]\n"
          ]
        }
      ],
      "source": [
        "#Question 1\n",
        "def reconstruct_permutation(s):\n",
        "    n = len(s)\n",
        "    perm = []\n",
        "    low, high = 0, n\n",
        "\n",
        "    for p in s:\n",
        "        if p == 'I':\n",
        "            perm.append(low)\n",
        "            low += 1\n",
        "        elif p == 'D':\n",
        "            perm.append(high)\n",
        "            high -= 1\n",
        "\n",
        "  \n",
        "    perm.append(low)\n",
        "\n",
        "    return perm\n",
        "s = \"IDID\"\n",
        "reconstructed_permutation = reconstruct_permutation(s)\n",
        "print(reconstructed_permutation)"
      ]
    },
    {
      "cell_type": "code",
      "source": [
        "#Question 2\n",
        "def search_matrix(matrix, target):\n",
        "    m = len(matrix)\n",
        "    n = len(matrix[0])\n",
        "\n",
        "    left = 0\n",
        "    right = m * n - 1\n",
        "\n",
        "    while left <= right:\n",
        "        mid = (left + right) // 2\n",
        "        row = mid // n\n",
        "        col = mid % n\n",
        "        value = matrix[row][col]\n",
        "\n",
        "        if value == target:\n",
        "            return True\n",
        "        elif value < target:\n",
        "            left = mid + 1\n",
        "        else:\n",
        "            right = mid - 1\n",
        "\n",
        "    return False\n"
      ],
      "metadata": {
        "id": "ZzYJW6ykCrdk"
      },
      "execution_count": 7,
      "outputs": []
    },
    {
      "cell_type": "code",
      "source": [
        "matrix = [\n",
        "    [1, 3, 5, 7],\n",
        "    [10, 11, 16, 20],\n",
        "    [23, 30, 34, 60]\n",
        "]\n",
        "target = 3\n",
        "\n",
        "found = search_matrix(matrix, target)\n",
        "print(found)"
      ],
      "metadata": {
        "colab": {
          "base_uri": "https://localhost:8080/"
        },
        "id": "6R1dpODlDeBJ",
        "outputId": "4cd28390-4351-4496-ffcf-c746d1f9aac9"
      },
      "execution_count": 8,
      "outputs": [
        {
          "output_type": "stream",
          "name": "stdout",
          "text": [
            "True\n"
          ]
        }
      ]
    },
    {
      "cell_type": "code",
      "source": [
        "#Question 3\n",
        "def valid_mountain_array(arr):\n",
        "    if len(arr) < 3:\n",
        "        return False\n",
        "    \n",
        "    i = 1\n",
        "    \n",
        "    while i < len(arr) and arr[i] > arr[i-1]:\n",
        "        i += 1\n",
        "    \n",
        "    if i == 1 or i == len(arr):\n",
        "        return False\n",
        "    \n",
        "    while i < len(arr) and arr[i] < arr[i-1]:\n",
        "        i += 1\n",
        "    \n",
        "    return i == len(arr)\n",
        "\n",
        "\n",
        "\n",
        "arr = [2, 1]\n",
        "is_mountain = valid_mountain_array(arr)\n",
        "print(is_mountain)\n",
        "\n"
      ],
      "metadata": {
        "colab": {
          "base_uri": "https://localhost:8080/"
        },
        "id": "dxJ-IfQxENwk",
        "outputId": "00b10853-4522-4be7-b28e-cabd98477ff4"
      },
      "execution_count": 11,
      "outputs": [
        {
          "output_type": "stream",
          "name": "stdout",
          "text": [
            "False\n"
          ]
        }
      ]
    },
    {
      "cell_type": "code",
      "source": [
        "#Question 4\n",
        "def find_max_length(nums):\n",
        "    max_length = 0\n",
        "    count = 0\n",
        "    prefix_sums = {0: -1}\n",
        "\n",
        "    for i, num in enumerate(nums):\n",
        "        if num == 0:\n",
        "            count -= 1\n",
        "        else:\n",
        "            count += 1\n",
        "\n",
        "        if count in prefix_sums:\n",
        "            max_length = max(max_length, i - prefix_sums[count])\n",
        "        else:\n",
        "            prefix_sums[count] = i\n",
        "\n",
        "    return max_length\n",
        "\n",
        "nums = [0, 1, 0, 1, 0, 0, 1]\n",
        "max_len = find_max_length(nums)\n",
        "print(max_len)\n"
      ],
      "metadata": {
        "colab": {
          "base_uri": "https://localhost:8080/"
        },
        "id": "nPLoz4ZdE8cE",
        "outputId": "1b54f360-8d89-4917-f614-1581d770d7d6"
      },
      "execution_count": 15,
      "outputs": [
        {
          "output_type": "stream",
          "name": "stdout",
          "text": [
            "6\n"
          ]
        }
      ]
    },
    {
      "cell_type": "code",
      "source": [
        "#Question 5\n",
        "def min_product_sum(nums1, nums2):\n",
        "    nums1.sort()\n",
        "    nums2.sort(reverse=True)\n",
        "\n",
        "    min_product_sum = 0\n",
        "    for i in range(len(nums1)):\n",
        "        min_product_sum += nums1[i] * nums2[i]\n",
        "\n",
        "    return min_product_sum\n",
        "nums1 = [5, 3, 4, 2]\n",
        "nums2 = [4, 2, 2, 5]\n",
        "result = min_product_sum(nums1, nums2)\n",
        "print(result)\n"
      ],
      "metadata": {
        "colab": {
          "base_uri": "https://localhost:8080/"
        },
        "id": "N8RwUbZTGpMD",
        "outputId": "9a9259c9-c7ac-47d7-8bde-2ff88eecb742"
      },
      "execution_count": 14,
      "outputs": [
        {
          "output_type": "stream",
          "name": "stdout",
          "text": [
            "40\n"
          ]
        }
      ]
    },
    {
      "cell_type": "code",
      "source": [
        "#Question 6\n",
        "from collections import defaultdict\n",
        "\n",
        "def find_original_array(changed):\n",
        "    count_map = defaultdict(int)\n",
        "    \n",
        "    for num in changed:\n",
        "        count_map[num] += 1\n",
        "    \n",
        "    original = []\n",
        "    \n",
        "    for num in changed:\n",
        "        if count_map[num] == 0:\n",
        "            return []\n",
        "        \n",
        "        count_map[num] -= 1\n",
        "        \n",
        "        if count_map[num // 2] == 0:\n",
        "            return []\n",
        "        \n",
        "        count_map[num // 2] -= 1\n",
        "        \n",
        "        original.append(num // 2)\n",
        "    \n",
        "    return original\n",
        "\n",
        "\n"
      ],
      "metadata": {
        "id": "Yff2SD8sHEGt"
      },
      "execution_count": 19,
      "outputs": []
    },
    {
      "cell_type": "code",
      "source": [
        "changed = [1, 3, 4, 2, 6, 8]\n",
        "original = find_original_array(changed)\n",
        "print(original)\n"
      ],
      "metadata": {
        "colab": {
          "base_uri": "https://localhost:8080/"
        },
        "id": "1nWUmCWzH_1B",
        "outputId": "b3b6c35a-efb4-4317-9438-e32c16cd5623"
      },
      "execution_count": 22,
      "outputs": [
        {
          "output_type": "stream",
          "name": "stdout",
          "text": [
            "[]\n"
          ]
        }
      ]
    },
    {
      "cell_type": "code",
      "source": [
        "#Question 7\n",
        "def generate_spiral_matrix(n):\n",
        "    matrix = [[0] * n for _ in range(n)]\n",
        "    num = 1\n",
        "    top_row, bottom_row = 0, n - 1\n",
        "    left_col, right_col = 0, n - 1\n",
        "\n",
        "    while num <= n * n:\n",
        "       \n",
        "        for i in range(left_col, right_col + 1):\n",
        "            matrix[top_row][i] = num\n",
        "            num += 1\n",
        "        top_row += 1\n",
        "        \n",
        "        for i in range(top_row, bottom_row + 1):\n",
        "            matrix[i][right_col] = num\n",
        "            num += 1\n",
        "        right_col -= 1\n",
        "        \n",
        "        for i in range(right_col, left_col - 1, -1):\n",
        "            matrix[bottom_row][i] = num\n",
        "            num += 1\n",
        "        bottom_row -= 1\n",
        "\n",
        "        for i in range(bottom_row, top_row - 1, -1):\n",
        "            matrix[i][left_col] = num\n",
        "            num += 1\n",
        "        left_col += 1\n",
        "\n",
        "    return matrix\n"
      ],
      "metadata": {
        "id": "M4feJlblISkC"
      },
      "execution_count": 25,
      "outputs": []
    },
    {
      "cell_type": "code",
      "source": [
        "[\n",
        " [1, 2, 3],\n",
        " [8, 9, 4],\n",
        " [7, 6, 5]\n",
        "]\n"
      ],
      "metadata": {
        "colab": {
          "base_uri": "https://localhost:8080/"
        },
        "id": "PRaTFW_7MgkJ",
        "outputId": "2f9940b9-d0ed-42ea-f521-515bcb8f675c"
      },
      "execution_count": 26,
      "outputs": [
        {
          "output_type": "execute_result",
          "data": {
            "text/plain": [
              "[[1, 2, 3], [8, 9, 4], [7, 6, 5]]"
            ]
          },
          "metadata": {},
          "execution_count": 26
        }
      ]
    },
    {
      "cell_type": "code",
      "source": [
        "#Question 8\n",
        "def multiply_sparse_matrices(mat1, mat2):\n",
        "    m, k = len(mat1), len(mat1[0])\n",
        "    k, n = len(mat2), len(mat2[0])\n",
        "\n",
        "    result = [[0] * n for _ in range(m)]\n",
        "\n",
        "    mat2_transpose = list(map(list, zip(*mat2)))\n",
        "    for i in range(m):\n",
        "        for j in range(n):\n",
        "            for p in range(k):\n",
        "                if mat1[i][p] != 0 and mat2_transpose[j][p] != 0:\n",
        "                    result[i][j] += mat1[i][p] * mat2_transpose[j][p]\n",
        "\n",
        "    return result\n"
      ],
      "metadata": {
        "id": "ec6rj0KjMjmp"
      },
      "execution_count": 35,
      "outputs": []
    },
    {
      "cell_type": "code",
      "source": [
        "mat1 = [[1, 0, 0],\n",
        "        [-1, 0, 3]]\n",
        "\n",
        "mat2 = [[7, 0, 0],\n",
        "        [0, 0, 0],\n",
        "        [0, 0, 1]]\n"
      ],
      "metadata": {
        "id": "8rjpG6EAN5Gt"
      },
      "execution_count": 36,
      "outputs": []
    },
    {
      "cell_type": "code",
      "source": [],
      "metadata": {
        "id": "No3d7q_rPAMB"
      },
      "execution_count": null,
      "outputs": []
    }
  ]
}